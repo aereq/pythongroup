{
  "nbformat": 4,
  "nbformat_minor": 0,
  "metadata": {
    "colab": {
      "provenance": []
    },
    "kernelspec": {
      "name": "python3",
      "display_name": "Python 3"
    },
    "language_info": {
      "name": "python"
    }
  },
  "cells": [
    {
      "cell_type": "code",
      "source": [
        "import numpy as np\n",
        "import pandas as pd\n",
        "import matplotlib.pyplot as plt\n",
        "import yfinance as yf"
      ],
      "metadata": {
        "id": "o_UchjptixDS"
      },
      "execution_count": 1,
      "outputs": []
    },
    {
      "cell_type": "markdown",
      "source": [
        "# **function stock_return_risk()**"
      ],
      "metadata": {
        "id": "PTM-zw1JfvGY"
      }
    },
    {
      "cell_type": "code",
      "source": [
        "def stock_return_risk(ticker):\n",
        "    data = yf.download(ticker, period=\"10y\", interval=\"1d\")\n",
        "    if data.empty:\n",
        "        raise ValueError(f\"No data found for ticker {ticker}\")\n",
        "    data = data['Adj Close']\n",
        "    daily_returns = data.pct_change().dropna()\n",
        "    avg_daily_return = daily_returns.mean()\n",
        "    daily_volatility = daily_returns.std()\n",
        "    trading_days = 252  # Approximate number of trading days in a year\n",
        "    avg_annual_return = (1 + avg_daily_return) ** trading_days - 1\n",
        "    annual_volatility = daily_volatility * np.sqrt(trading_days)\n",
        "\n",
        "    return avg_annual_return, annual_volatility"
      ],
      "metadata": {
        "id": "pQ-n-fijdF1e"
      },
      "execution_count": 2,
      "outputs": []
    },
    {
      "cell_type": "code",
      "source": [
        "print(stock_return_risk(\"AAPL\"))\n",
        "#shows annual return (0,3) then annual volatility (0,28)"
      ],
      "metadata": {
        "colab": {
          "base_uri": "https://localhost:8080/"
        },
        "id": "currPZ6ud87Z",
        "outputId": "ae7156c6-0b31-4ec1-f83b-a04d93b78cc0"
      },
      "execution_count": 3,
      "outputs": [
        {
          "output_type": "stream",
          "name": "stderr",
          "text": [
            "\r[*********************100%***********************]  1 of 1 completed"
          ]
        },
        {
          "output_type": "stream",
          "name": "stdout",
          "text": [
            "(Ticker\n",
            "AAPL    0.311925\n",
            "dtype: float64, Ticker\n",
            "AAPL    0.284854\n",
            "dtype: float64)\n"
          ]
        },
        {
          "output_type": "stream",
          "name": "stderr",
          "text": [
            "\n"
          ]
        }
      ]
    },
    {
      "cell_type": "markdown",
      "source": [
        "# function portfolio_return()"
      ],
      "metadata": {
        "id": "AhMKLUL0f7nq"
      }
    },
    {
      "cell_type": "code",
      "source": [
        "def portfolio_return(securities, weights):\n",
        "    data = yf.download(securities, period=\"10y\", interval=\"1d\")['Adj Close']\n",
        "    if data.empty:\n",
        "        raise ValueError(\"No data found for the provided securities.\")\n",
        "    daily_returns = data.pct_change().dropna()\n",
        "    avg_daily_returns = daily_returns.mean()\n",
        "    trading_days = 252  # Approximate number of trading days in a year\n",
        "    avg_annual_returns = (1 + avg_daily_returns) ** trading_days - 1\n",
        "    portfolio_annual_return = np.dot(avg_annual_returns, weights)\n",
        "\n",
        "    return portfolio_annual_return"
      ],
      "metadata": {
        "id": "jswHT7Q_gOOK"
      },
      "execution_count": 4,
      "outputs": []
    },
    {
      "cell_type": "code",
      "source": [
        "print(portfolio_return([\"AAPL\", \"MSFT\"], np.array([0.6, 0.4])))"
      ],
      "metadata": {
        "colab": {
          "base_uri": "https://localhost:8080/"
        },
        "id": "CHghAmSThKj0",
        "outputId": "6910562b-6b1a-4ad7-a612-a0996ca7c0b0"
      },
      "execution_count": 5,
      "outputs": [
        {
          "output_type": "stream",
          "name": "stderr",
          "text": [
            "[*********************100%***********************]  2 of 2 completed"
          ]
        },
        {
          "output_type": "stream",
          "name": "stdout",
          "text": [
            "0.31522536134297163\n"
          ]
        },
        {
          "output_type": "stream",
          "name": "stderr",
          "text": [
            "\n"
          ]
        }
      ]
    },
    {
      "cell_type": "markdown",
      "source": [
        "# function portfolio_risk()"
      ],
      "metadata": {
        "id": "5XN0PCoWoRKN"
      }
    },
    {
      "cell_type": "code",
      "source": [
        "def portfolio_risk(securities, weights):\n",
        "    data = yf.download(securities, period=\"10y\")['Adj Close']\n",
        "    returns = data.pct_change().dropna()\n",
        "    cov_matrix = returns.cov() * 252\n",
        "    portfolio_variance = np.dot(weights.T, np.dot(cov_matrix, weights))\n",
        "    portfolio_volatility = np.sqrt(portfolio_variance)\n",
        "    print(f\"Annual portfolio risk/volatility: {portfolio_volatility:.4f}\")"
      ],
      "metadata": {
        "id": "tDY6Z7sKoD4t"
      },
      "execution_count": 10,
      "outputs": []
    },
    {
      "cell_type": "code",
      "source": [
        "print(portfolio_risk([\"AAPL\", \"MSFT\"], np.array([0.6, 0.4])))"
      ],
      "metadata": {
        "colab": {
          "base_uri": "https://localhost:8080/"
        },
        "id": "iqDOQ8Pnqi8d",
        "outputId": "c94e7e46-dd93-4c1b-eb49-ab069b389bfe"
      },
      "execution_count": 11,
      "outputs": [
        {
          "output_type": "stream",
          "name": "stderr",
          "text": [
            "[*********************100%***********************]  2 of 2 completed"
          ]
        },
        {
          "output_type": "stream",
          "name": "stdout",
          "text": [
            "Annual portfolio risk/volatility: 0.2576\n",
            "None\n"
          ]
        },
        {
          "output_type": "stream",
          "name": "stderr",
          "text": [
            "\n"
          ]
        }
      ]
    }
  ]
}